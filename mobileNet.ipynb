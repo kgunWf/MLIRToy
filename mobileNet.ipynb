{
 "cells": [
  {
   "cell_type": "code",
   "execution_count": 1,
   "id": "839852f1-8451-4f2b-a366-f0c7b55abdd0",
   "metadata": {},
   "outputs": [],
   "source": [
    "import torch\n",
    "import torch.nn as nn\n",
    "\n",
    "class TestModel(nn.Module):\n",
    "    def __init__(self):\n",
    "        super().__init__()\n",
    "        self.fc1 = nn.Linear(128, 64)\n",
    "        self.relu = nn.ReLU()\n",
    "        self.fc2 = nn.Linear(64, 10)\n",
    "\n",
    "    def forward(self, x):\n",
    "        return self.fc2(self.relu(self.fc1(x)))\n",
    "\n",
    "model = TestModel()\n",
    "traced_model = torch.jit.trace(model, torch.randn(1, 128))\n",
    "\n",
    "# Save the TorchScript model\n",
    "torch.jit.save(traced_model, \"model.pt\")\n"
   ]
  },
  {
   "cell_type": "code",
   "execution_count": 2,
   "id": "1b4e527c-902c-45e7-8e5f-92e455b2a29d",
   "metadata": {},
   "outputs": [
    {
     "name": "stdout",
     "output_type": "stream",
     "text": [
      "Traceback (most recent call last):\n",
      "  File \"/opt/anaconda3/envs/mlir_env/bin/torch-mlir-opt\", line 33, in <module>\n",
      "    sys.exit(load_entry_point('torch-mlir==0.0.1', 'console_scripts', 'torch-mlir-opt')())\n",
      "  File \"/opt/anaconda3/envs/mlir_env/bin/torch-mlir-opt\", line 25, in importlib_load_entry_point\n",
      "    return next(matches).load()\n",
      "  File \"/opt/anaconda3/envs/mlir_env/lib/python3.10/importlib/metadata/__init__.py\", line 171, in load\n",
      "    module = import_module(match.group('module'))\n",
      "  File \"/opt/anaconda3/envs/mlir_env/lib/python3.10/importlib/__init__.py\", line 126, in import_module\n",
      "    return _bootstrap._gcd_import(name[level:], package, level)\n",
      "  File \"<frozen importlib._bootstrap>\", line 1050, in _gcd_import\n",
      "  File \"<frozen importlib._bootstrap>\", line 1027, in _find_and_load\n",
      "  File \"<frozen importlib._bootstrap>\", line 992, in _find_and_load_unlocked\n",
      "  File \"<frozen importlib._bootstrap>\", line 241, in _call_with_frames_removed\n",
      "  File \"<frozen importlib._bootstrap>\", line 1050, in _gcd_import\n",
      "  File \"<frozen importlib._bootstrap>\", line 1027, in _find_and_load\n",
      "  File \"<frozen importlib._bootstrap>\", line 992, in _find_and_load_unlocked\n",
      "  File \"<frozen importlib._bootstrap>\", line 241, in _call_with_frames_removed\n",
      "  File \"<frozen importlib._bootstrap>\", line 1050, in _gcd_import\n",
      "  File \"<frozen importlib._bootstrap>\", line 1027, in _find_and_load\n",
      "  File \"<frozen importlib._bootstrap>\", line 1004, in _find_and_load_unlocked\n",
      "ModuleNotFoundError: No module named 'torch_mlir.tools'\n"
     ]
    }
   ],
   "source": [
    "!torch-mlir-opt --torchscript model.pt -o model.mlir"
   ]
  },
  {
   "cell_type": "code",
   "execution_count": null,
   "id": "1a860ceb-2e30-495e-b335-5eed6366af8b",
   "metadata": {},
   "outputs": [],
   "source": [
    "!torch-mlir-opt --convert-torch-to-tensor model.mlir -o tensor.mlir"
   ]
  },
  {
   "cell_type": "code",
   "execution_count": null,
   "id": "f1e82b18-3d5d-4ec1-96ec-f994136597c0",
   "metadata": {},
   "outputs": [],
   "source": [
    "!mlir-opt --convert-linalg-to-affine-loops tensor.mlir -o affine.mlir"
   ]
  },
  {
   "cell_type": "code",
   "execution_count": null,
   "id": "e930bd0a-a0eb-41c9-be42-94cd817c99ed",
   "metadata": {},
   "outputs": [],
   "source": [
    "!iree-compile affine.mlir -backend=llvm-cpu -o mobile_model.vmfb"
   ]
  }
 ],
 "metadata": {
  "kernelspec": {
   "display_name": "Python 3 (ipykernel)",
   "language": "python",
   "name": "python3"
  },
  "language_info": {
   "codemirror_mode": {
    "name": "ipython",
    "version": 3
   },
   "file_extension": ".py",
   "mimetype": "text/x-python",
   "name": "python",
   "nbconvert_exporter": "python",
   "pygments_lexer": "ipython3",
   "version": "3.10.16"
  }
 },
 "nbformat": 4,
 "nbformat_minor": 5
}
